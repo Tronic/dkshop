{
 "cells": [
  {
   "cell_type": "markdown",
   "metadata": {},
   "source": [
    "# HTML5Tagger Python module\n",
    "\n",
    "Import html5tagger as **h5t**, or"
   ]
  },
  {
   "cell_type": "code",
   "execution_count": 1,
   "metadata": {},
   "outputs": [],
   "source": [
    "from html5tagger import Document, E"
   ]
  },
  {
   "cell_type": "markdown",
   "metadata": {},
   "source": [
    "You can create HTML snippets by starting with **E** (for an empty builder) and adding elements with dot notation. Content goes within parenthesis."
   ]
  },
  {
   "cell_type": "code",
   "execution_count": 2,
   "metadata": {},
   "outputs": [
    {
     "name": "stdout",
     "output_type": "stream",
     "text": [
      "<table><tr><th>First<th>Second<th>Third<tr><td>1<td>2<td>3</table>\n"
     ]
    },
    {
     "data": {
      "text/html": [
       "<table><tr><th>First<th>Second<th>Third<tr><td>1<td>2<td>3</table>"
      ],
      "text/plain": [
       "<html5tagger.Builder at 0x32bd650>"
      ]
     },
     "execution_count": 2,
     "metadata": {},
     "output_type": "execute_result"
    }
   ],
   "source": [
    "snippet = E.table(E.tr.th(\"First\").th(\"Second\").th(\"Third\").tr.td(1).td(2).td(3))\n",
    "\n",
    "print(snippet)  # Use print or str(snippet) to get code as text\n",
    "snippet  # IPython notebooks use snippet._repr_html_() and render the output"
   ]
  },
  {
   "cell_type": "markdown",
   "metadata": {},
   "source": [
    "In contrast to E which creates snippets, calling **Document** creates a new document (i.e. it begins with a DOCTYPE declaration). A minimal head structure is created using provided title and/or urls. HTML attributes may be defined by keyword arguments."
   ]
  },
  {
   "cell_type": "code",
   "execution_count": 3,
   "metadata": {},
   "outputs": [],
   "source": [
    "doc = Document(\"Test page\", lang=\"en\")\n",
    "doc.div(id=\"content\")\n",
    "with doc.ul:  # Nest using the with statement\n",
    "    doc.li(\"Write documents in Python\").li(\"Pros\")\n",
    "    with doc.ul:\n",
    "        doc.li(\"No brackets or closing tags\").li(\"Integrates with other code\")\n",
    "        doc.ul(E.li(\"Easy\").li(\"Efficient\"))  # Nest using (...)\n",
    "    doc.li.a(href='javascript:alert(\"Link clicked\")')(\"A link\")"
   ]
  },
  {
   "cell_type": "code",
   "execution_count": 4,
   "metadata": {},
   "outputs": [
    {
     "name": "stdout",
     "output_type": "stream",
     "text": [
      "<!DOCTYPE html><html lang=en><meta charset=utf8><title>Test page</title><div id=content></div><ul><li>Write documents in Python<li>Pros<ul><li>No brackets or closing tags<li>Integrates with other code<ul><li>Easy<li>Efficient</ul></ul><li><a href=\"javascript:alert(&quot;Link clicked&quot;)\">A link</a></ul>\n"
     ]
    },
    {
     "data": {
      "text/html": [
       "<iframe width=\"100%\" height=200 srcdoc=\"<!DOCTYPE html><html lang=en><meta charset=utf8><title>Test page</title><div id=content></div><ul><li>Write documents in Python<li>Pros<ul><li>No brackets or closing tags<li>Integrates with other code<ul><li>Easy<li>Efficient</ul></ul><li><a href=&quot;javascript:alert(&amp;quot;Link clicked&amp;quot;)&quot;>A link</a></ul>\"></iframe>"
      ],
      "text/plain": [
       "<html5tagger.Builder at 0x2e6cfd0>"
      ]
     },
     "execution_count": 4,
     "metadata": {},
     "output_type": "execute_result"
    }
   ],
   "source": [
    "print(doc)  # Print doc's code\n",
    "E.iframe(width=\"100%\", height=200, srcdoc=doc)  # Make an iframe with doc's code in its srcdoc attribute"
   ]
  },
  {
   "cell_type": "code",
   "execution_count": 5,
   "metadata": {},
   "outputs": [
    {
     "name": "stdout",
     "output_type": "stream",
     "text": [
      "<iframe width=\"100%\" height=200 srcdoc=\"<!DOCTYPE html><html lang=en><meta charset=utf8><title>Test page</title><div id=content></div><ul><li>Write documents in Python<li>Pros<ul><li>No brackets or closing tags<li>Integrates with other code<ul><li>Easy<li>Efficient</ul></ul><li><a href=&quot;javascript:alert(&amp;quot;Link clicked&amp;quot;)&quot;>A link</a></ul>\"></iframe>\n"
     ]
    }
   ],
   "source": [
    "print(_)  # Print the iframe source"
   ]
  },
  {
   "cell_type": "markdown",
   "metadata": {},
   "source": [
    "Escaping and quotes are quite minimal but sufficient."
   ]
  },
  {
   "cell_type": "code",
   "execution_count": 6,
   "metadata": {
    "scrolled": true
   },
   "outputs": [
    {
     "name": "stdout",
     "output_type": "stream",
     "text": [
      "<!DOCTYPE html><html lang=en><meta charset=utf8><title>Table test</title><table><tr><th>R0<td>00<td>01<td>02<td>03<tr><th>R1<td>10<td>11<td>12<td>13<tr><th>R2<td>20<td>21<td>22<td>23</table>\n"
     ]
    },
    {
     "data": {
      "text/html": [
       "<!DOCTYPE html><html lang=en><meta charset=utf8><title>Table test</title><table><tr><th>R0<td>00<td>01<td>02<td>03<tr><th>R1<td>10<td>11<td>12<td>13<tr><th>R2<td>20<td>21<td>22<td>23</table>"
      ],
      "text/plain": [
       "<html5tagger.Builder at 0x356a950>"
      ]
     },
     "execution_count": 6,
     "metadata": {},
     "output_type": "execute_result"
    }
   ],
   "source": [
    "doc = Document(\"Table test\", lang=\"en\")\n",
    "with doc.table:\n",
    "    for r in range(3):\n",
    "        doc.tr.th(\"R\", r)\n",
    "        for c in range(4):\n",
    "            doc.td(r, c)\n",
    "\n",
    "print(doc)\n",
    "doc"
   ]
  },
  {
   "cell_type": "markdown",
   "metadata": {},
   "source": [
    "Boolean values convert into short attributes. Underscore at the end of name is ignored so that Python's reserved names such as **for** can be specified. Other underscores convert into hyphens."
   ]
  },
  {
   "cell_type": "code",
   "execution_count": 7,
   "metadata": {
    "scrolled": true
   },
   "outputs": [
    {
     "data": {
      "text/html": [
       "<input type=checkbox id=somebox checked><label for=somebox>Yes, please!</label>"
      ],
      "text/plain": [
       "<html5tagger.Builder at 0x356a850>"
      ]
     },
     "execution_count": 7,
     "metadata": {},
     "output_type": "execute_result"
    }
   ],
   "source": [
    "E.input(type=\"checkbox\", id=\"somebox\", checked=True).label(for_=\"somebox\")(\"Yes, please!\")"
   ]
  },
  {
   "cell_type": "code",
   "execution_count": 8,
   "metadata": {},
   "outputs": [
    {
     "name": "stdout",
     "output_type": "stream",
     "text": [
      "<input type=checkbox id=somebox checked><label for=somebox>Yes, please!</label>\n"
     ]
    }
   ],
   "source": [
    "print(_)"
   ]
  },
  {
   "cell_type": "code",
   "execution_count": 9,
   "metadata": {},
   "outputs": [
    {
     "name": "stdout",
     "output_type": "stream",
     "text": [
      "<h1>Introduction</h1><p>This module is intended to be used for HTML formatting using Python code and control structures.<p>We hope that you find this useful too<p>Sincerely,<br>Developers!<!--This is a comment-->\n"
     ]
    },
    {
     "data": {
      "text/html": [
       "<h1>Introduction</h1><p>This module is intended to be used for HTML formatting using Python code and control structures.<p>We hope that you find this useful too<p>Sincerely,<br>Developers!<!--This is a comment-->"
      ],
      "text/plain": [
       "<html5tagger.Builder at 0x356add0>"
      ]
     },
     "execution_count": 9,
     "metadata": {},
     "output_type": "execute_result"
    }
   ],
   "source": [
    "doc = E.h1(\"Introduction\")\n",
    "doc.p(\"This module is intended to be used for HTML formatting using Python code and control structures.\")\n",
    "doc.p(\"We hope that you find this useful too\")\n",
    "doc.p(\"Sincerely,\").br(\"Developers!\")._comment(\"This is a comment\")\n",
    "\n",
    "print(doc)\n",
    "doc"
   ]
  },
  {
   "cell_type": "code",
   "execution_count": 10,
   "metadata": {},
   "outputs": [
    {
     "data": {
      "text/html": [
       "<strong>Strong text</strong>, normal text<em>, an emphasis and </em><mark style=\"background: #ff0\">marked text</mark>"
      ],
      "text/plain": [
       "<html5tagger.Builder at 0x356a230>"
      ]
     },
     "execution_count": 10,
     "metadata": {},
     "output_type": "execute_result"
    }
   ],
   "source": [
    "E.strong(\"Strong text\")(\", normal text\").em(\", an emphasis and \").mark(style=\"background: #ff0\")(\"marked text\")"
   ]
  },
  {
   "cell_type": "code",
   "execution_count": 11,
   "metadata": {},
   "outputs": [
    {
     "name": "stdout",
     "output_type": "stream",
     "text": [
      "<strong>Strong text</strong>, normal text<em>, an emphasis and </em><mark style=\"background: #ff0\">marked text</mark>\n"
     ]
    }
   ],
   "source": [
    "print(_)"
   ]
  },
  {
   "cell_type": "code",
   "execution_count": 12,
   "metadata": {},
   "outputs": [
    {
     "name": "stdout",
     "output_type": "stream",
     "text": [
      "<!DOCTYPE html><link rel=stylesheet href=\"style.css\"><link rel=icon href=\"favicon.ico\"><script src=\"jquery.js\"></script>\n"
     ]
    }
   ],
   "source": [
    "print(Document(_urls=(\"style.css\", \"favicon.ico\", \"jquery.js\")))"
   ]
  },
  {
   "cell_type": "code",
   "execution_count": 13,
   "metadata": {},
   "outputs": [
    {
     "name": "stdout",
     "output_type": "stream",
     "text": [
      "66.4 µs ± 263 ns per loop (mean ± std. dev. of 7 runs, 10000 loops each)\n"
     ]
    }
   ],
   "source": [
    "%timeit str(Document(\"benchmarking\", lang=\"en\", _urls=(\"foo.js\", \"bar.js\")))"
   ]
  },
  {
   "cell_type": "code",
   "execution_count": 14,
   "metadata": {},
   "outputs": [
    {
     "name": "stdout",
     "output_type": "stream",
     "text": [
      "<svg><circle id=circ r=50 cx=50 cy=50 fill=red></circle><rect x=120 y=5 width=90 height=90 stroke=blue fill=none></rect></svg>\n"
     ]
    },
    {
     "data": {
      "text/html": [
       "<svg><circle id=circ r=50 cx=50 cy=50 fill=red></circle><rect x=120 y=5 width=90 height=90 stroke=blue fill=none></rect></svg>"
      ],
      "text/plain": [
       "<html5tagger.Builder at 0x358e470>"
      ]
     },
     "execution_count": 14,
     "metadata": {},
     "output_type": "execute_result"
    }
   ],
   "source": [
    "with E.svg as svg:\n",
    "    svg.circle(id=\"circ\", r=50, cx=50, cy=50, fill=\"red\")\n",
    "    svg.rect(x=120, y=5, width=90, height=90, stroke=\"blue\", fill=\"none\")\n",
    "\n",
    "print(svg)\n",
    "svg"
   ]
  }
 ],
 "metadata": {
  "kernelspec": {
   "display_name": "Python 3",
   "language": "python",
   "name": "python3"
  },
  "language_info": {
   "codemirror_mode": {
    "name": "ipython",
    "version": 3
   },
   "file_extension": ".py",
   "mimetype": "text/x-python",
   "name": "python",
   "nbconvert_exporter": "python",
   "pygments_lexer": "ipython3",
   "version": "3.7.0"
  }
 },
 "nbformat": 4,
 "nbformat_minor": 2
}
